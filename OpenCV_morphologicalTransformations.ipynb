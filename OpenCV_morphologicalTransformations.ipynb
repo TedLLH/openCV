{
 "cells": [
  {
   "cell_type": "markdown",
   "id": "574f939d-e22e-45d1-bc5e-51af03f1f56d",
   "metadata": {},
   "source": [
    "# erosion, dilation, opening, closing\n",
    "# morphological gradient, top hat, black hat"
   ]
  },
  {
   "cell_type": "code",
   "execution_count": null,
   "id": "43d704d7-e05f-4b9f-9b25-1a217942a100",
   "metadata": {},
   "outputs": [],
   "source": [
    "import numpy as np\n",
    "import cv2 as cv\n",
    "img = cv.imread('../images/flare.jpg', cv.IMREAD_GRAYSCALE)\n",
    "assert img is not None, \"file could not be read, check with os.path.exists()\"\n",
    "kernel = np.ones((6,6),np.uint8)\n",
    "#erosion\n",
    "erosion = cv.erode(img,kernel,iterations = 1)\n",
    "#dilation\n",
    "dilation = cv.dilate(img,kernel,iterations = 1)\n",
    "#opening -> erosion followed by dilation\n",
    "opening = cv.morphologyEx(img, cv.MORPH_OPEN, kernel)\n",
    "#closing -> Dilation followed by Erosion\n",
    "closing = cv.morphologyEx(img, cv.MORPH_CLOSE, kernel)\n",
    "#morphological gradient\n",
    "gradient = cv.morphologyEx(img, cv.MORPH_GRADIENT, kernel)\n",
    "#top hat -> detect light objects on a dark background.\n",
    "tophat = cv.morphologyEx(img, cv.MORPH_TOPHAT, kernel)\n",
    "#black hat -> detect dark objects on a light background.\n",
    "blackhat = cv.morphologyEx(img, cv.MORPH_BLACKHAT, kernel)\n",
    "\n",
    "\n",
    "cv.imshow('erosion', erosion)\n",
    "cv.imshow('dilation', dilation)\n",
    "cv.imshow('opening', opening)\n",
    "cv.imshow('closing', closing)\n",
    "cv.imshow('gradient', gradient)\n",
    "cv.imshow('tophat', tophat)\n",
    "cv.imshow('blackhat', blackhat)\n",
    "cv.waitKey(0)\n",
    "cv.destroyAllWindows()"
   ]
  }
 ],
 "metadata": {
  "kernelspec": {
   "display_name": "Python 3 (ipykernel)",
   "language": "python",
   "name": "python3"
  },
  "language_info": {
   "codemirror_mode": {
    "name": "ipython",
    "version": 3
   },
   "file_extension": ".py",
   "mimetype": "text/x-python",
   "name": "python",
   "nbconvert_exporter": "python",
   "pygments_lexer": "ipython3",
   "version": "3.12.5"
  }
 },
 "nbformat": 4,
 "nbformat_minor": 5
}
