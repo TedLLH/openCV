{
 "cells": [
  {
   "cell_type": "markdown",
   "id": "fd58d6b3-8c2e-4c00-aa6a-8b8f04517274",
   "metadata": {},
   "source": [
    "# 2D Convolution (image filtering)\n",
    "# Avereaging\n",
    "# Gaussain Blurring\n",
    "# Median Blurring\n",
    "# Bilateral Filtering"
   ]
  },
  {
   "cell_type": "code",
   "execution_count": 19,
   "id": "73721b9e-a38d-45c3-ac3e-09b8a1398835",
   "metadata": {},
   "outputs": [],
   "source": [
    "import numpy as np\n",
    "import cv2 as cv\n",
    "from matplotlib import pyplot as plt\n",
    "img = cv.imread('../images/flare.jpg')\n",
    "assert img is not None, \"file could not be read, check with os.path.exists()\"\n",
    "#blur\n",
    "blur = cv.blur(img,(5,5))\n",
    "#boxFilter\n",
    "boxFilter = cv.boxFilter(img, )\n",
    "#GaussianBlur\n",
    "dst = cv.GaussianBlur(img,(5,5),0)\n",
    "#2DConvolutionImageFilter\n",
    "kernel = np.ones((5,5),np.float32)/25\n",
    "dst1 = cv.filter2D(img,-1,kernel)\n",
    "#Median Blurring -> highly effective against salt-and-pepper noise\n",
    "dst2 = cv.medianBlur(img,5)\n",
    "#Bilateral Filtering ->  highly effective in noise removal while keeping edges sharp, but operation is slower\n",
    "dst3 = cv.bilateralFilter(img,9,75,75)\n",
    "\n",
    "cv.imshow('orignal', img)\n",
    "cv.imshow('averaging', blur)\n",
    "cv.imshow('GaussianBlur', dst)\n",
    "cv.imshow('2DConvolutionImageFilter', dst1)\n",
    "cv.imshow('MedianBlurring', dst2)\n",
    "cv.imshow('BilateralFiltering', dst3)\n",
    "cv.waitKey(0)\n",
    "cv.destroyAllWindows()"
   ]
  }
 ],
 "metadata": {
  "kernelspec": {
   "display_name": "Python 3 (ipykernel)",
   "language": "python",
   "name": "python3"
  },
  "language_info": {
   "codemirror_mode": {
    "name": "ipython",
    "version": 3
   },
   "file_extension": ".py",
   "mimetype": "text/x-python",
   "name": "python",
   "nbconvert_exporter": "python",
   "pygments_lexer": "ipython3",
   "version": "3.12.5"
  }
 },
 "nbformat": 4,
 "nbformat_minor": 5
}
