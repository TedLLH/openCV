{
 "cells": [
  {
   "cell_type": "markdown",
   "id": "d540c7da-6b03-4ae1-bf80-8ed1bc7796dd",
   "metadata": {},
   "source": [
    "# image pyramid"
   ]
  },
  {
   "cell_type": "code",
   "execution_count": 61,
   "id": "b554c93c-a353-4e8e-9e42-518f15f28a78",
   "metadata": {},
   "outputs": [],
   "source": [
    "#gaussian pyramid\n",
    "import cv2 as cv\n",
    "\n",
    "img = cv.imread('../images/flare.jpg')\n",
    "assert img is not None, \"file could not be read, check with os.path.exists()\"\n",
    "lower_reso = cv.pyrDown(img)\n",
    "lower_reso1 = cv.pyrDown(lower_reso)\n",
    "lower_reso2 = cv.pyrDown(lower_reso1)\n",
    "higher_reso = cv.pyrUp(lower_reso2)\n",
    "\n",
    "cv.imshow('orignal', img)\n",
    "cv.imshow('lower_reso', lower_reso)\n",
    "cv.imshow('lower_reso1', lower_reso1)\n",
    "cv.imshow('lower_reso2', lower_reso2)\n",
    "cv.imshow('higher_reso', higher_reso)\n",
    "cv.waitKey()\n",
    "cv.destroyAllWindows()"
   ]
  },
  {
   "cell_type": "markdown",
   "id": "0eb4f92b-a54e-4327-8ae5-b15c3fb58d72",
   "metadata": {},
   "source": [
    "# Laplacian Pyramids\n",
    "\n",
    "Laplacian Pyramids are formed from the Gaussian Pyramids. There is no exclusive function for that. Laplacian pyramid images are like edge images only. Most of its elements are zeros. They are used in image compression. \n",
    "\n"
   ]
  },
  {
   "cell_type": "markdown",
   "id": "a8feae3a-66c1-4dd3-a327-24be82a9cedb",
   "metadata": {},
   "source": [
    "# Image blending using pyramids"
   ]
  },
  {
   "cell_type": "code",
   "execution_count": 60,
   "id": "da860be6-cfd9-4956-9301-85ae21e68113",
   "metadata": {},
   "outputs": [
    {
     "data": {
      "text/plain": [
       "(801, 1200, 3)"
      ]
     },
     "execution_count": 60,
     "metadata": {},
     "output_type": "execute_result"
    }
   ],
   "source": [
    "img1 = cv.imread('../images/flare.jpg')\n",
    "img2 = cv.imread('../images/bike.jpg')\n",
    "\n",
    "\n",
    "\n",
    "# scale = min(width/max(img1.shape[0],img2.shape[0]),  \n",
    "#              height/max(img1.shape[1],img2.shape[1]))\n",
    "\n",
    "# dsize = (int(img1.shape[1]*scale), int(img1.shape[0]*scale)) \n",
    "\n",
    "# img1_resized = cv2.resize(img1, dsize)\n",
    "# img2_resized = cv2.resize(img2, dsize)"
   ]
  },
  {
   "cell_type": "code",
   "execution_count": 10,
   "id": "20f170d2-ea4c-47ae-a607-88d77c688c8d",
   "metadata": {},
   "outputs": [
    {
     "ename": "error",
     "evalue": "OpenCV(4.10.0) :-1: error: (-5:Bad argument) in function 'resize'\n> Overload resolution failed:\n>  - resize() missing required argument 'dsize' (pos 2)\n>  - resize() missing required argument 'dsize' (pos 2)\n",
     "output_type": "error",
     "traceback": [
      "\u001b[1;31m---------------------------------------------------------------------------\u001b[0m",
      "\u001b[1;31merror\u001b[0m                                     Traceback (most recent call last)",
      "Cell \u001b[1;32mIn[10], line 8\u001b[0m\n\u001b[0;32m      5\u001b[0m \u001b[38;5;28;01massert\u001b[39;00m A \u001b[38;5;129;01mis\u001b[39;00m \u001b[38;5;129;01mnot\u001b[39;00m \u001b[38;5;28;01mNone\u001b[39;00m, \u001b[38;5;124m\"\u001b[39m\u001b[38;5;124mfile could not be read, check with os.path.exists()\u001b[39m\u001b[38;5;124m\"\u001b[39m\n\u001b[0;32m      6\u001b[0m \u001b[38;5;28;01massert\u001b[39;00m B \u001b[38;5;129;01mis\u001b[39;00m \u001b[38;5;129;01mnot\u001b[39;00m \u001b[38;5;28;01mNone\u001b[39;00m, \u001b[38;5;124m\"\u001b[39m\u001b[38;5;124mfile could not be read, check with os.path.exists()\u001b[39m\u001b[38;5;124m\"\u001b[39m\n\u001b[1;32m----> 8\u001b[0m A \u001b[38;5;241m=\u001b[39m \u001b[43mcv\u001b[49m\u001b[38;5;241;43m.\u001b[39;49m\u001b[43mresize\u001b[49m\u001b[43m(\u001b[49m\u001b[43mA\u001b[49m\u001b[43m,\u001b[49m\u001b[43m \u001b[49m\u001b[43mfx\u001b[49m\u001b[38;5;241;43m=\u001b[39;49m\u001b[38;5;241;43m2\u001b[39;49m\u001b[43m,\u001b[49m\u001b[43m \u001b[49m\u001b[43mfy\u001b[49m\u001b[38;5;241;43m=\u001b[39;49m\u001b[38;5;241;43m2\u001b[39;49m\u001b[43m)\u001b[49m\n\u001b[0;32m      9\u001b[0m B \u001b[38;5;241m=\u001b[39m cv\u001b[38;5;241m.\u001b[39mresize(B, fx\u001b[38;5;241m=\u001b[39m\u001b[38;5;241m2\u001b[39m, fy\u001b[38;5;241m=\u001b[39m\u001b[38;5;241m2\u001b[39m)\n\u001b[0;32m     10\u001b[0m A \u001b[38;5;241m=\u001b[39m cv\u001b[38;5;241m.\u001b[39mcvtColor(A, cv\u001b[38;5;241m.\u001b[39mCV_8U)\n",
      "\u001b[1;31merror\u001b[0m: OpenCV(4.10.0) :-1: error: (-5:Bad argument) in function 'resize'\n> Overload resolution failed:\n>  - resize() missing required argument 'dsize' (pos 2)\n>  - resize() missing required argument 'dsize' (pos 2)\n"
     ]
    }
   ],
   "source": [
    "import cv2 as cv\n",
    "import numpy as np,sys\n",
    "A = cv.imread('../images/flare.jpg')\n",
    "B = cv.imread('../images/bike.jpg')\n",
    "assert A is not None, \"file could not be read, check with os.path.exists()\"\n",
    "assert B is not None, \"file could not be read, check with os.path.exists()\"\n",
    "\n",
    "A = cv.resize(A, fx=2, fy=2)\n",
    "B = cv.resize(B, fx=2, fy=2)\n",
    "A = cv.cvtColor(A, cv.CV_8U)\n",
    "B = cv.cvtColor(B, cv.CV_8U)\n",
    "#A = cv.cvtColor(A, cv.COLOR_BGR2GRAY)\n",
    "#B = cv.cvtColor(B, cv.COLOR_BGR2GRAY)\n",
    "# generate Gaussian pyramid for A\n",
    "G = A.copy()\n",
    "gpA = [G]\n",
    "for i in range(4):\n",
    "    G = cv.pyrDown(G)\n",
    "    gpA.append(G)\n",
    "# generate Gaussian pyramid for B\n",
    "G = B.copy()\n",
    "gpB = [G]\n",
    "for i in range(4):\n",
    "    G = cv.pyrDown(G)\n",
    "    gpB.append(G)\n",
    "# generate Laplacian Pyramid for A\n",
    "lpA = [gpA[3]]\n",
    "for i in range(3,0,-1):\n",
    "    GE = cv.pyrUp(gpA[i])\n",
    "    L = cv.subtract(gpA[i-1],GE)\n",
    "    lpA.append(L)\n",
    "# generate Laplacian Pyramid for B\n",
    "lpB = [gpB[3]]\n",
    "for i in range(3,0,-1):\n",
    "    GE = cv.pyrUp(gpB[i])\n",
    "    L = cv.subtract(gpB[i-1],GE)\n",
    "    lpB.append(L)\n",
    "# Now add left and right halves of images in each level\n",
    "LS = []\n",
    "for la,lb in zip(lpA,lpB):\n",
    "    rows,cols,dst = la.shape\n",
    "    ls = np.hstack((la[:,0:cols//2], lb[:,cols//2:]))\n",
    "    LS.append(ls)\n",
    "# now reconstruct\n",
    "ls_ = LS[0]\n",
    "for i in range(1,4):\n",
    "    ls_ = cv.pyrUp(ls_)\n",
    "    ls_ = cv.add(ls_, LS[i])\n",
    "# image with direct connecting each half\n",
    "real = np.hstack((A[:,:cols//2],B[:,cols//2:]))\n",
    "cv.imwrite('Pyramid_blending2.jpg',ls_)\n",
    "cv.imwrite('Direct_blending.jpg',real)"
   ]
  }
 ],
 "metadata": {
  "kernelspec": {
   "display_name": "Python 3 (ipykernel)",
   "language": "python",
   "name": "python3"
  },
  "language_info": {
   "codemirror_mode": {
    "name": "ipython",
    "version": 3
   },
   "file_extension": ".py",
   "mimetype": "text/x-python",
   "name": "python",
   "nbconvert_exporter": "python",
   "pygments_lexer": "ipython3",
   "version": "3.12.5"
  }
 },
 "nbformat": 4,
 "nbformat_minor": 5
}
