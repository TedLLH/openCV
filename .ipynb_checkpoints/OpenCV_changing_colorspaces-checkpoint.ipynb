{
 "cells": [
  {
   "cell_type": "code",
   "execution_count": 33,
   "id": "aead9569-d451-45e1-9f78-a3fe817e2fa2",
   "metadata": {
    "scrolled": true
   },
   "outputs": [],
   "source": [
    "import cv2 as cv\n",
    "import numpy as np\n",
    "cap = cv.VideoCapture(0)\n",
    "while(1):\n",
    "    # Take each frame\n",
    "    _, frame = cap.read()\n",
    "    # Convert BGR to HSV\n",
    "    hsv = cv.cvtColor(frame, cv.COLOR_BGR2HSV)\n",
    "    # define range of red color in HSV\n",
    "    lower_red = np.array([150,255,255])\n",
    "    upper_red = np.array([180,255,255])\n",
    "    # define range of green color in HSV\n",
    "    lower_green = np.array([36,25,25])\n",
    "    upper_green = np.array([100,255,255])\n",
    "    # define range of blue color in HSV\n",
    "    lower_blue = np.array([110,50,50])\n",
    "    upper_blue = np.array([130,255,255])\n",
    "    # Threshold the HSV image to get only red colors\n",
    "    mask_red = cv.inRange(hsv, lower_red, upper_red)\n",
    "    # Threshold the HSV image to get only green colors\n",
    "    mask_green = cv.inRange(hsv, lower_green, upper_green)\n",
    "    # Threshold the HSV image to get only blue colors\n",
    "    mask_blue = cv.inRange(hsv, lower_blue, upper_blue)\n",
    "    #combined mask\n",
    "    combined_mask = cv.bitwise_or(mask_red, mask_green)\n",
    "    combined_maske = cv.bitwise_or(combined_mask, mask_blue)                               \n",
    "    # Bitwise-AND mask and original image\n",
    "    res = cv.bitwise_and(frame,frame, mask = combined_mask)\n",
    "    cv.imshow('frame',frame)\n",
    "    cv.imshow('mask',combined_mask)\n",
    "    cv.imshow('res',res)\n",
    "    k = cv.waitKey(5) & 0xFF\n",
    "    if k == 27:\n",
    "        break\n",
    "cv.destroyAllWindows()"
   ]
  }
 ],
 "metadata": {
  "kernelspec": {
   "display_name": "Python 3 (ipykernel)",
   "language": "python",
   "name": "python3"
  },
  "language_info": {
   "codemirror_mode": {
    "name": "ipython",
    "version": 3
   },
   "file_extension": ".py",
   "mimetype": "text/x-python",
   "name": "python",
   "nbconvert_exporter": "python",
   "pygments_lexer": "ipython3",
   "version": "3.12.5"
  }
 },
 "nbformat": 4,
 "nbformat_minor": 5
}
